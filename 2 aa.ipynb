{
 "cells": [
  {
   "cell_type": "code",
   "execution_count": null,
   "id": "8a025fd3",
   "metadata": {},
   "outputs": [],
   "source": [
    "name :s.Abdul rahman\n",
    "batch :dS50122\n",
    "assignment :2\n",
    "    \n",
    "Write a Python program that accepts a word from the user and reverse it.\n",
    "\n",
    "\n",
    "\n",
    "Sample Test Case\n",
    "\n",
    "\n",
    "\n",
    "Input : Edyoda\n",
    "\n",
    "output: adoydE"
   ]
  },
  {
   "cell_type": "code",
   "execution_count": 7,
   "id": "c447c8d9",
   "metadata": {},
   "outputs": [
    {
     "name": "stdout",
     "output_type": "stream",
     "text": [
      "input : edyoda\n",
      "output : adoyde\n"
     ]
    }
   ],
   "source": [
    "a=input (\"input : \")\n",
    "b=\"\"\n",
    "for i in a:\n",
    "    b=i+b\n",
    "print(\"output :\",b)"
   ]
  },
  {
   "cell_type": "code",
   "execution_count": null,
   "id": "573c8d2d",
   "metadata": {},
   "outputs": [],
   "source": []
  }
 ],
 "metadata": {
  "kernelspec": {
   "display_name": "Python 3 (ipykernel)",
   "language": "python",
   "name": "python3"
  },
  "language_info": {
   "codemirror_mode": {
    "name": "ipython",
    "version": 3
   },
   "file_extension": ".py",
   "mimetype": "text/x-python",
   "name": "python",
   "nbconvert_exporter": "python",
   "pygments_lexer": "ipython3",
   "version": "3.8.6"
  }
 },
 "nbformat": 4,
 "nbformat_minor": 5
}
